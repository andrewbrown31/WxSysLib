{
 "cells": [
  {
   "cell_type": "markdown",
   "id": "9846ec0b-5c2e-4fb1-9540-ac1c025bafcb",
   "metadata": {},
   "source": [
    "# Tropical cyclone detection using TempestExtremes  \n",
    "The recipe detects and track tropical cyclones using TempestExtremes. Tropical cyclones are identified from mean sea level pressure (MSLP) minima with compact MSLP contours and warm-core structure.\n",
    "\n",
    "**References:**  \n",
    "Ullrich, P.A., C.M. Zarzycki, E.E. McClenny, M.C. Pinheiro, A.M. Stansfield and K.A. Reed (2021) \"TempestExtremes v2.1: A community framework for feature detection, tracking and analysis in large datasets\" Geosci. Model. Dev. 14, pp. 5023–5048. [https://gmd.copernicus.org/articles/14/5023/2021/]\n",
    "\n",
    "Ullrich, P.A. and C.M. Zarzycki (2017) \"TempestExtremes v1.0: A framework for scale-insensitive pointwise feature tracking on unstructured grids\" Geosci. Model. Dev. 10, pp. 1069-1090. [https://gmd.copernicus.org/articles/10/1069/2017/]\n",
    "\n",
    "Zarzycki, C.M. and P.A. Ullrich (2017) \"Assessing sensitivities in algorithmic detection of tropical cyclones in climate data\" Geophys. Res. Lett. 44 (2), pp. 1141-1149. [https://agupubs.onlinelibrary.wiley.com/doi/full/10.1002/2016GL071606]"
   ]
  },
  {
   "cell_type": "markdown",
   "id": "dbecf3b3-1b5e-40bb-b384-e1304e1ea932",
   "metadata": {},
   "source": [
    "<span style=\"color: mediumblue;\">Load python packages</span>"
   ]
  },
  {
   "cell_type": "code",
   "execution_count": 1,
   "id": "a69a6e1a-941a-400f-9fc8-631dd9a3ab91",
   "metadata": {},
   "outputs": [],
   "source": [
    "from datetime import datetime, timedelta\n",
    "import xarray as xr\n",
    "import pandas as pd\n",
    "import numpy as np\n",
    "import sys\n",
    "import os"
   ]
  },
  {
   "cell_type": "markdown",
   "id": "2a750906-a5a9-478a-9573-dd3a197944fa",
   "metadata": {},
   "source": [
    "<span style=\"color: mediumblue;\">Set and load the paths for WxSysLib installed on your local directory</span>"
   ]
  },
  {
   "cell_type": "code",
   "execution_count": 2,
   "id": "94c398c6-3eda-488d-9798-9b6bf099d7a0",
   "metadata": {},
   "outputs": [],
   "source": [
    "os.environ['WXSYSLIBDIR']='/g/data/gb02/mb0427/WxSysLib'\n",
    "sys.path.append(os.environ['WXSYSLIBDIR'])"
   ]
  },
  {
   "cell_type": "markdown",
   "id": "a4328cb7-5781-4345-9c2b-bf448d72f7ee",
   "metadata": {},
   "source": [
    "<span style=\"color: mediumblue;\">Set and load the path for TempestExtremes on `gb02/public/tools/Wx`</span>"
   ]
  },
  {
   "cell_type": "code",
   "execution_count": 3,
   "id": "1dc7c9ec-f3e3-48a7-ba37-c7f7f2b7bd9f",
   "metadata": {},
   "outputs": [],
   "source": [
    "os.environ['TEMPESTEXTREMESDIR']='/g/data/gb02/public/tools/Wx/tempestextremes/bin'"
   ]
  },
  {
   "cell_type": "markdown",
   "id": "f549decc-b96d-49b0-bfff-178aa2918026",
   "metadata": {},
   "source": [
    "<span style=\"color: mediumblue;\">TempestExtremes allows running using mpi</span>"
   ]
  },
  {
   "cell_type": "code",
   "execution_count": 4,
   "id": "fce0f41c-50ba-4802-a44e-174a16af1d50",
   "metadata": {},
   "outputs": [
    {
     "name": "stderr",
     "output_type": "stream",
     "text": [
      "/g/data/xp65/public/apps/med_conda/envs/analysis3-25.04/lib/python3.11/site-packages/distributed/node.py:187: UserWarning: Port 8787 is already in use.\n",
      "Perhaps you already have a cluster running?\n",
      "Hosting the HTTP server on port 46413 instead\n",
      "  warnings.warn(\n"
     ]
    }
   ],
   "source": [
    "from dask.distributed import Client\n",
    "client = Client(n_workers=2)"
   ]
  },
  {
   "cell_type": "markdown",
   "id": "3fb5bfc8-b9d6-467f-a29e-4af08585f6db",
   "metadata": {},
   "source": [
    "<span style=\"color: mediumblue;\">load tempestextremes utils</span>"
   ]
  },
  {
   "cell_type": "code",
   "execution_count": 5,
   "id": "09ecf8fe-6b0b-4310-8810-92f7d4df2f43",
   "metadata": {},
   "outputs": [],
   "source": [
    "from utils.nodes.tempestextremes_utils.node_utils import (\n",
    "run_detectNodes,\n",
    "run_stitchNodes,\n",
    "run_nodeCompose,\n",
    "create_Node_dirstruct,\n",
    "assign_lev)"
   ]
  },
  {
   "cell_type": "markdown",
   "id": "e134ae33-8df2-4b83-880d-546f627f5c55",
   "metadata": {},
   "source": [
    "<span style=\"color: mediumblue;\">load other utils from WxSysLib</span>"
   ]
  },
  {
   "cell_type": "code",
   "execution_count": 6,
   "id": "2702c0df-e5b5-4462-8190-2c99680bbd5f",
   "metadata": {},
   "outputs": [],
   "source": [
    "from utils.general.nci_utils import get_GADI_ERA5_filename\n",
    "from utils.general.date_utils import generate_datetimes_months\n",
    "from utils.general.file_utils import write_to_filelist\n",
    "from utils.plotting.node_plotting import plot_node_tracks"
   ]
  },
  {
   "cell_type": "markdown",
   "id": "fb14e258-4c7d-4d47-ab11-b8c3633c29c4",
   "metadata": {},
   "source": [
    "<span style=\"color: mediumblue;\">Create required directories using `create_Node_dirstruct`</span>  "
   ]
  },
  {
   "cell_type": "code",
   "execution_count": 7,
   "id": "96c72dbd-d3f1-43d1-a2f1-b0ae21770900",
   "metadata": {},
   "outputs": [
    {
     "name": "stdout",
     "output_type": "stream",
     "text": [
      "Directory '/scratch/if69/mb0427/tc_example' already exists.\n",
      "Directory '/scratch/if69/mb0427/tc_example/input' already exists.\n",
      "Directory '/scratch/if69/mb0427/tc_example/detectNodes' already exists.\n",
      "Directory '/scratch/if69/mb0427/tc_example/stitchNodes' already exists.\n",
      "Directory '/scratch/if69/mb0427/tc_example/nodeFileCompose' already exists.\n",
      "Directory '/scratch/if69/mb0427/tc_example/logs' already exists.\n"
     ]
    }
   ],
   "source": [
    "work_dir = '/scratch/if69/mb0427';\n",
    "casename = 'tc_example'\n",
    "dirs = create_Node_dirstruct(work_dir, casename)\n",
    "casepath = dirs[0]"
   ]
  },
  {
   "cell_type": "markdown",
   "id": "21cc4a7f-9ef5-4e8b-ac63-8f89b78ddd0e",
   "metadata": {},
   "source": [
    "<span style=\"color: mediumblue;\">Let's detect and track tropical cyclones for two-month ERA5 data</span>"
   ]
  },
  {
   "cell_type": "code",
   "execution_count": 8,
   "id": "1ca730ff-86f1-402d-bb4f-95e28420e7b4",
   "metadata": {},
   "outputs": [],
   "source": [
    "std_month = datetime(2023,1,1)\n",
    "end_month = datetime(2023,2,1)\n",
    "months_list = generate_datetimes_months(std_month,end_month)\n",
    "date_id = [dt.strftime('%Y%m') for dt in months_list]"
   ]
  },
  {
   "cell_type": "markdown",
   "id": "92f1770b-b2dc-4f52-9107-30384f4833f6",
   "metadata": {},
   "source": [
    "## <span style=\"color: mediumblue;\">Create input filelist and output filelist</span>  \n",
    "\n",
    "The following variables are required for tropical cyclone detection and tracking.\n",
    "\n",
    "| Variable Name                 | Level                             |\n",
    "|-------------------------------|-----------------------------------|\n",
    "| Elevation (zs)                | Surface                           |\n",
    "| 10-m U-component Wind (u10)   | Surface                           |\n",
    "| 10-m V-component Wind (v10)   | Surface                           |\n",
    "| Mean Sea Level Pressure (msl) | Surface                           |\n",
    "| Geopotential (z)              | 500 hPa, 300 hPa                  |   "
   ]
  },
  {
   "cell_type": "code",
   "execution_count": 9,
   "id": "7b1ffb21-3f88-4791-9f41-f8dc845e7396",
   "metadata": {},
   "outputs": [],
   "source": [
    "# input filelist \n",
    "input_filelist  =f'{casepath}/input/input_files.txt'\n",
    "data_filenames = []\n",
    "for m in months_list:\n",
    "    zsfile   = '/g/data/gb02/mb0427/WxSysLib/test_data/zs_era5_oper_sfc_invariant.nc'\n",
    "    zfile    = get_GADI_ERA5_filename('z',  m,stream='hourly',level_type='pressure-levels')\n",
    "    mslfile  = get_GADI_ERA5_filename('msl',m,stream='hourly',level_type=  'single-levels') \n",
    "    u10file  = get_GADI_ERA5_filename('10u',m,stream='hourly',level_type=  'single-levels') \n",
    "    v10file  = get_GADI_ERA5_filename('10v',m,stream='hourly',level_type=  'single-levels')\n",
    "    data_filenames.append(f\"{zfile};{zsfile};{mslfile};{u10file};{v10file}\")\n",
    "write_to_filelist(data_filenames,input_filelist)"
   ]
  },
  {
   "cell_type": "markdown",
   "id": "5401ab11-946a-4e5f-8559-97195c71b98f",
   "metadata": {},
   "source": [
    "<span style=\"color: mediumblue;\">An input filelist contains a list of required ERA5 variable filenames separateed by semicolon</span>"
   ]
  },
  {
   "cell_type": "code",
   "execution_count": 10,
   "id": "594a32ae-994b-4c63-a56d-f5c3fb705ee3",
   "metadata": {},
   "outputs": [
    {
     "name": "stdout",
     "output_type": "stream",
     "text": [
      "/g/data/rt52/era5/pressure-levels/reanalysis/z/2023/z_era5_oper_pl_20230101-20230131.nc;/g/data/gb02/mb0427/WxSysLib/test_data/zs_era5_oper_sfc_invariant.nc;/g/data/rt52/era5/single-levels/reanalysis/msl/2023/msl_era5_oper_sfc_20230101-20230131.nc;/g/data/rt52/era5/single-levels/reanalysis/10u/2023/10u_era5_oper_sfc_20230101-20230131.nc;/g/data/rt52/era5/single-levels/reanalysis/10v/2023/10v_era5_oper_sfc_20230101-20230131.nc\n",
      "/g/data/rt52/era5/pressure-levels/reanalysis/z/2023/z_era5_oper_pl_20230201-20230228.nc;/g/data/gb02/mb0427/WxSysLib/test_data/zs_era5_oper_sfc_invariant.nc;/g/data/rt52/era5/single-levels/reanalysis/msl/2023/msl_era5_oper_sfc_20230201-20230228.nc;/g/data/rt52/era5/single-levels/reanalysis/10u/2023/10u_era5_oper_sfc_20230201-20230228.nc;/g/data/rt52/era5/single-levels/reanalysis/10v/2023/10v_era5_oper_sfc_20230201-20230228.nc\n"
     ]
    }
   ],
   "source": [
    "!cat $input_filelist"
   ]
  },
  {
   "cell_type": "markdown",
   "id": "85391259-f461-492c-93f5-1a2d6dc2bb47",
   "metadata": {},
   "source": [
    "<span style=\"color: mediumblue;\">An output filelist contains a list of detected nodes</span>"
   ]
  },
  {
   "cell_type": "code",
   "execution_count": 11,
   "id": "98f7e053-87b7-4566-82c9-ae15238cdf4a",
   "metadata": {},
   "outputs": [
    {
     "name": "stdout",
     "output_type": "stream",
     "text": [
      "/scratch/if69/mb0427/tc_example/detectNodes/detectNodes_202301.txt\n",
      "/scratch/if69/mb0427/tc_example/detectNodes/detectNodes_202302.txt\n"
     ]
    }
   ],
   "source": [
    "# output filelist\n",
    "detect_filelist =f'{casepath}/input/output_files.txt'\n",
    "detect_filenames = [f\"{casepath}/detectNodes/detectNodes_{dt}.txt\" for dt in date_id]\n",
    "write_to_filelist(detect_filenames,detect_filelist)\n",
    "\n",
    "!cat $detect_filelist"
   ]
  },
  {
   "cell_type": "markdown",
   "id": "64759031-f90d-4f88-8a69-ee0bf44f55aa",
   "metadata": {},
   "source": [
    "  "
   ]
  },
  {
   "cell_type": "markdown",
   "id": "d32401d4",
   "metadata": {},
   "source": [
    "## <span style=\"color: mediumblue;\">Run detectNode:</span>   \n",
    "`run_detectNodes` is a tool to detect nodes (points) with specific thresholds"
   ]
  },
  {
   "cell_type": "markdown",
   "id": "6afe4075-315e-4f33-b645-a390eb33ac17",
   "metadata": {},
   "source": [
    "`searchby='min'` and `detect_var='msl` - search for msl minimum  \n",
    "\n",
    "`merge_dist=6.0` - merge two detected nodes if they are to closed to each other (6.0 great circle distance)  \n",
    "\n",
    "`bounds=[100, 240, -60, 0]` - a box (lon_min, lon_max, lat_min, lat_max) for where cyclones are identified  \n",
    "\n",
    "**tc_contour_command**   \n",
    "\n",
    "\n",
    "`msl,200.0,5.5,0` - change in msl within 5.5 GCD from the centre is greater than 200 Pa\n",
    "\n",
    "`_DIFF(z(300millibars),z(500millibars)),-58.8,6.5,1.0` - the difference between Z300 and Z500 must decrease by 58.8 m^2/s^2 over a 6.5 GCD, using the maximum value of thie field within 1 GCD as reference. The command ensures a coherent upper-level warm core attached to detected surface msl minimum. \n",
    "\n",
    "\n",
    "\n",
    "**tc_output_command**    \n",
    "\n",
    "`msl,min,0` - output the mimum msl at the detected node   \n",
    "\n",
    "`_VECMAG(u10,v10),max,2.0` - output the maximum magnitude of 10-m wind within 2.0 GCD of the detected node.  \n",
    "\n",
    "`zs,min,0` - output the surface height (elevation) at the detected node"
   ]
  },
  {
   "cell_type": "markdown",
   "id": "2cd47589-41b0-42ad-b026-df472661688e",
   "metadata": {},
   "source": [
    "  "
   ]
  },
  {
   "cell_type": "code",
   "execution_count": null,
   "id": "7939315d-0877-4e97-85a9-d862fb5e78c5",
   "metadata": {},
   "outputs": [
    {
     "name": "stdout",
     "output_type": "stream",
     "text": [
      "mpirun -np 2 /g/data/gb02/public/tools/Wx/tempestextremes/bin/DetectNodes --in_data_list /scratch/if69/mb0427/tc_example/input/input_files.txt --out_file_list /scratch/if69/mb0427/tc_example/input/output_files.txt --searchbymin \"msl\" --closedcontourcmd \"msl,200.0,5.5,0;_DIFF(z(300millibars),z(500millibars)),-58.8,6.5,1.0\" --mergedist 6.0 --outputcmd \"msl,min,0;_VECMAG(u10,v10),max,2.0;zs,min,0\" --timefilter \"6hr\" --latname latitude --lonname longitude --logdir /scratch/if69/mb0427/tc_example/logs --regional --minlon 100 --maxlon 240 --minlat -60 --maxlat 0\n",
      "Running command ...\n"
     ]
    }
   ],
   "source": [
    "tc_contour_command = (\n",
    "    'msl,200.0,5.5,0;'\n",
    "    '_DIFF(z(300millibars),z(500millibars)),-58.8,6.5,1.0'\n",
    ")\n",
    "\n",
    "tc_output_command  = (\n",
    "    'msl,min,0;'\n",
    "    '_VECMAG(u10,v10),max,2.0;'\n",
    "    'zs,min,0'\n",
    ")\n",
    "\n",
    "out,err=run_detectNodes(input_filelist,\n",
    "                detect_filelist,\n",
    "                mpi_np=2,\n",
    "                searchby='min',\n",
    "                detect_var='msl',\n",
    "                merge_dist=6.0,\n",
    "                bounds=[100, 240, -60, 0],\n",
    "                closedcontour_commands=tc_contour_command,\n",
    "                output_commands=tc_output_command,\n",
    "                timeinterval='6hr',\n",
    "                lonname='longitude',\n",
    "                latname='latitude',\n",
    "                logdir=f'{casepath}/logs',\n",
    "                regional=True,\n",
    "                quiet=False,\n",
    "                out_command_only=False\n",
    ")"
   ]
  },
  {
   "cell_type": "code",
   "execution_count": null,
   "id": "aebedbc2-e7fd-4caa-a311-cd58d701c4b9",
   "metadata": {},
   "outputs": [],
   "source": [
    "print(out)"
   ]
  },
  {
   "cell_type": "markdown",
   "id": "dd8bc2c4-332d-46fc-a758-506e90c39209",
   "metadata": {},
   "source": [
    "## <span style=\"color: mediumblue;\">Run stitch Node:</span>  \n",
    "`run_stitchNodes` is a tool to connect detected nodes in time"
   ]
  },
  {
   "cell_type": "markdown",
   "id": "6f1a3772",
   "metadata": {},
   "source": [
    "`output_filefmt=\"csv\"` - format of the stitchNode output\n",
    "\n",
    "`in_fmt_commands=\"lon,lat,msl,wind,zs\"` - column names of input detectNode file  \n",
    "\n",
    "`range_dist=8.0` - the maximum distance (in GCD) that a node can move between subsequent detections. \n",
    "\n",
    "`minim_time=\"54h\"` - the minimum persistence time of each trajectory (from genesis to termination). \n",
    "\n",
    "`maxgap_time=\"24h\"` - the maximum duration between two sequential detections\n",
    "\n",
    "\n",
    "**tc_stitch_threshold_command**   \n",
    "\n",
    "\n",
    "`wind,>=,10.0,10` - the wind magnitude must be greater than 10 m/s for 10 time steps.   \n",
    "\n",
    "`lat,<=,50.0,10;lat,>=,-50.0,10` - the latitude must be between 50S and 50N for 10 time steps. \n",
    "\n",
    "`zs,<,150.0,10` - the detected node must be below 150 m for 10 time steps "
   ]
  },
  {
   "cell_type": "markdown",
   "id": "beec34f7-6241-433f-966a-22c790138294",
   "metadata": {},
   "source": [
    "  "
   ]
  },
  {
   "cell_type": "code",
   "execution_count": null,
   "id": "24e34de7-2fe2-4829-970a-f47729629c97",
   "metadata": {},
   "outputs": [],
   "source": [
    "stitch_file = f'{casepath}/stitchNodes/stitchNodes_output.csv'\n",
    "\n",
    "tc_stitch_threshold_command  = (\n",
    "    'wind,>=,10.0,10;'\n",
    "    'lat,<=,50.0,10;lat,>=,-50.0,10;'\n",
    "    'zs,<,150.0,10'\n",
    ")\n",
    "\n",
    "run_stitchNodes(detect_filelist,\n",
    "                stitch_file,\n",
    "                mpi_np=1,\n",
    "                output_filefmt=\"csv\",\n",
    "                in_fmt_commands=\"lon,lat,msl,wind,zs\",\n",
    "                range_dist=8.0,\n",
    "                minim_time=\"54h\",\n",
    "                maxgap_time=\"24h\",\n",
    "                min_endpoint_dist=12.0,\n",
    "                threshold_condition=tc_stitch_threshold_command,\n",
    "                quiet=False,\n",
    "                out_command_only=False)"
   ]
  },
  {
   "cell_type": "markdown",
   "id": "48ea2560-49c0-400c-9336-604db09e45a5",
   "metadata": {},
   "source": [
    "<span style=\"color: mediumblue;\">Let's have a look at detected tropical cyclones using `plot_node_tracks` function</span>.  "
   ]
  },
  {
   "cell_type": "code",
   "execution_count": null,
   "id": "2b597a6a-7019-49eb-9d75-17a19d4936ed",
   "metadata": {},
   "outputs": [],
   "source": [
    "stitch_file = f'{casepath}/stitchNodes/stitchNodes_output.csv'\n",
    "df = pd.read_csv(stitch_file, skipinitialspace=True)"
   ]
  },
  {
   "cell_type": "code",
   "execution_count": null,
   "id": "060eac1e-9f5e-4609-8466-3e99656bf845",
   "metadata": {},
   "outputs": [],
   "source": [
    "fig = plot_node_tracks(df,'msl', 960_00, 1024_00, 90, 240, -60, 0, 'jet')"
   ]
  },
  {
   "cell_type": "markdown",
   "id": "245235e9-1957-4037-8320-b3726c09a9b7",
   "metadata": {},
   "source": [
    "## <span style=\"color: mediumblue;\">Run nodeCompose:</span>   \n",
    "`run_nodeCompose` is a tool to extract fields centred at nodes along their tracks."
   ]
  },
  {
   "cell_type": "markdown",
   "id": "d9ea21e6",
   "metadata": {},
   "source": [
    "`level_type='pressure-levels'` - level types of ERA5 data (single-levels, pressure-levels, potential-temperature)\n",
    "\n",
    "`grid_type='XY'` - grid type as Cartesian stereographic projection with eastwards X coordinate vector and northwards Y coordinate vector. Grid spacing is equidistant.\n",
    "\n",
    "`variables=['u', 'v']` - list for variables that will be extracted. \n",
    "\n",
    "`dx=0.5` - horizontal grid spacing \n",
    "\n",
    "`resx=21` - number of grid cells in each coordinate direction"
   ]
  },
  {
   "cell_type": "code",
   "execution_count": 32,
   "id": "de4fcfac-b4cf-4060-867c-c1fea2606d7b",
   "metadata": {},
   "outputs": [
    {
     "ename": "FileNotFoundError",
     "evalue": "[Errno 2] No such file or directory: '/scratch/gb02/mb0427/tc_example/nodeFileCompose/inputlist.txt'",
     "output_type": "error",
     "traceback": [
      "\u001b[0;31m---------------------------------------------------------------------------\u001b[0m",
      "\u001b[0;31mFileNotFoundError\u001b[0m                         Traceback (most recent call last)",
      "Cell \u001b[0;32mIn[32], line 2\u001b[0m\n\u001b[1;32m      1\u001b[0m snap_file \u001b[38;5;241m=\u001b[39m \u001b[38;5;124m'\u001b[39m\u001b[38;5;124m/scratch/gb02/mb0427/tc_example/nodeFileCompose/snap_exmaple.nc\u001b[39m\u001b[38;5;124m'\u001b[39m\n\u001b[0;32m----> 2\u001b[0m \u001b[43mrun_nodeCompose\u001b[49m\u001b[43m(\u001b[49m\u001b[43mstitch_file\u001b[49m\u001b[43m,\u001b[49m\n\u001b[1;32m      3\u001b[0m \u001b[43m                \u001b[49m\u001b[43msnap_file\u001b[49m\u001b[43m,\u001b[49m\n\u001b[1;32m      4\u001b[0m \u001b[43m                \u001b[49m\u001b[43min_fmt\u001b[49m\u001b[38;5;241;43m=\u001b[39;49m\u001b[38;5;124;43m'\u001b[39;49m\u001b[38;5;124;43m(auto)\u001b[39;49m\u001b[38;5;124;43m'\u001b[39;49m\u001b[43m,\u001b[49m\n\u001b[1;32m      5\u001b[0m \u001b[43m                \u001b[49m\u001b[43mlevel_type\u001b[49m\u001b[38;5;241;43m=\u001b[39;49m\u001b[38;5;124;43m'\u001b[39;49m\u001b[38;5;124;43msingle-levels\u001b[39;49m\u001b[38;5;124;43m'\u001b[39;49m\u001b[43m,\u001b[49m\n\u001b[1;32m      6\u001b[0m \u001b[43m                \u001b[49m\u001b[43mgrid_type\u001b[49m\u001b[38;5;241;43m=\u001b[39;49m\u001b[38;5;124;43m'\u001b[39;49m\u001b[38;5;124;43mXY\u001b[39;49m\u001b[38;5;124;43m'\u001b[39;49m\u001b[43m,\u001b[49m\n\u001b[1;32m      7\u001b[0m \u001b[43m                \u001b[49m\u001b[43mvariables\u001b[49m\u001b[38;5;241;43m=\u001b[39;49m\u001b[43m[\u001b[49m\u001b[38;5;124;43m'\u001b[39;49m\u001b[38;5;124;43mmsl\u001b[39;49m\u001b[38;5;124;43m'\u001b[39;49m\u001b[43m]\u001b[49m\u001b[43m,\u001b[49m\n\u001b[1;32m      8\u001b[0m \u001b[43m                \u001b[49m\u001b[43mlonname\u001b[49m\u001b[38;5;241;43m=\u001b[39;49m\u001b[38;5;124;43m\"\u001b[39;49m\u001b[38;5;124;43mlongitude\u001b[39;49m\u001b[38;5;124;43m\"\u001b[39;49m\u001b[43m,\u001b[49m\n\u001b[1;32m      9\u001b[0m \u001b[43m                \u001b[49m\u001b[43mlatname\u001b[49m\u001b[38;5;241;43m=\u001b[39;49m\u001b[38;5;124;43m\"\u001b[39;49m\u001b[38;5;124;43mlatitude\u001b[39;49m\u001b[38;5;124;43m\"\u001b[39;49m\u001b[43m,\u001b[49m\n\u001b[1;32m     10\u001b[0m \u001b[43m                \u001b[49m\u001b[43mdx\u001b[49m\u001b[38;5;241;43m=\u001b[39;49m\u001b[38;5;241;43m0.5\u001b[39;49m\u001b[43m,\u001b[49m\u001b[43m \u001b[49m\u001b[43mresx\u001b[49m\u001b[38;5;241;43m=\u001b[39;49m\u001b[38;5;241;43m41\u001b[39;49m\u001b[43m,\u001b[49m\n\u001b[1;32m     11\u001b[0m \u001b[43m                \u001b[49m\u001b[43mquiet\u001b[49m\u001b[38;5;241;43m=\u001b[39;49m\u001b[38;5;28;43;01mTrue\u001b[39;49;00m\u001b[43m,\u001b[49m\n\u001b[1;32m     12\u001b[0m \u001b[43m                \u001b[49m\u001b[43mout_command_only\u001b[49m\u001b[38;5;241;43m=\u001b[39;49m\u001b[38;5;28;43;01mFalse\u001b[39;49;00m\u001b[43m)\u001b[49m\n",
      "File \u001b[0;32m/g/data/gb02/mb0427/WxSysLib/utils/nodes/tempestextremes_utils/node_utils.py:251\u001b[0m, in \u001b[0;36mrun_nodeCompose\u001b[0;34m(stitch_file, compose_file, in_fmt, level_type, grid_type, variables, lonname, latname, dx, resx, quiet, out_command_only)\u001b[0m\n\u001b[1;32m    249\u001b[0m \u001b[38;5;66;03m# input filelist\u001b[39;00m\n\u001b[1;32m    250\u001b[0m inputlist \u001b[38;5;241m=\u001b[39m os\u001b[38;5;241m.\u001b[39mpath\u001b[38;5;241m.\u001b[39mdirname(compose_file) \u001b[38;5;241m+\u001b[39m os\u001b[38;5;241m.\u001b[39msep \u001b[38;5;241m+\u001b[39m \u001b[38;5;124m'\u001b[39m\u001b[38;5;124minputlist.txt\u001b[39m\u001b[38;5;124m'\u001b[39m\n\u001b[0;32m--> 251\u001b[0m \u001b[38;5;28;01mwith\u001b[39;00m \u001b[38;5;28;43mopen\u001b[39;49m\u001b[43m(\u001b[49m\u001b[43minputlist\u001b[49m\u001b[43m,\u001b[49m\u001b[43m \u001b[49m\u001b[38;5;124;43m'\u001b[39;49m\u001b[38;5;124;43mw\u001b[39;49m\u001b[38;5;124;43m'\u001b[39;49m\u001b[43m)\u001b[49m \u001b[38;5;28;01mas\u001b[39;00m in_file:\n\u001b[1;32m    252\u001b[0m     \u001b[38;5;28;01mfor\u001b[39;00m m \u001b[38;5;129;01min\u001b[39;00m months_list:\n\u001b[1;32m    253\u001b[0m         files \u001b[38;5;241m=\u001b[39m []\n",
      "\u001b[0;31mFileNotFoundError\u001b[0m: [Errno 2] No such file or directory: '/scratch/gb02/mb0427/tc_example/nodeFileCompose/inputlist.txt'"
     ]
    }
   ],
   "source": [
    "snap_file = '/scratch/gb02/mb0427/tc_example/nodeFileCompose/snap_exmaple.nc'\n",
    "run_nodeCompose(stitch_file,\n",
    "                snap_file,\n",
    "                in_fmt='(auto)',\n",
    "                level_type='single-levels',\n",
    "                grid_type='XY',\n",
    "                variables=['msl'],\n",
    "                lonname=\"longitude\",\n",
    "                latname=\"latitude\",\n",
    "                dx=0.5, resx=41,\n",
    "                quiet=True,\n",
    "                out_command_only=False)"
   ]
  },
  {
   "cell_type": "markdown",
   "id": "5984c4c9-3d23-4186-855e-e30acff006a5",
   "metadata": {},
   "source": [
    "<span style=\"color: mediumblue;\">⚠️Node the extract fields do not have vertical coordinate. `assign_lev` is used to assign vertical coordiante, if needed</span>"
   ]
  },
  {
   "cell_type": "code",
   "execution_count": 33,
   "id": "e1a61ac9-f7d3-4924-866f-511bf2f27668",
   "metadata": {},
   "outputs": [
    {
     "data": {
      "text/plain": [
       "'/scratch/if69/mb0427/tc_example/stitchNodes/stitchNodes_output.csv'"
      ]
     },
     "execution_count": 33,
     "metadata": {},
     "output_type": "execute_result"
    }
   ],
   "source": [
    "stitch_file"
   ]
  },
  {
   "cell_type": "markdown",
   "id": "d3bf7255",
   "metadata": {},
   "source": [
    "`snap_pathid` - track id for each trajectory. \n",
    "\n",
    "`snap_time`, `snap_lon` and `snap_lat` - time, longitude, and latitude of each node.  \n",
    "\n",
    "`snap_msl` - extract variables at each detected node.  "
   ]
  },
  {
   "cell_type": "code",
   "execution_count": null,
   "id": "94337796",
   "metadata": {},
   "outputs": [],
   "source": [
    "ds"
   ]
  },
  {
   "cell_type": "markdown",
   "id": "f5ad0b51",
   "metadata": {},
   "source": [
    "<span style=\"color: mediumblue;\">Let's have a look at one track</span>"
   ]
  },
  {
   "cell_type": "code",
   "execution_count": 21,
   "id": "227ea1c0-c275-4367-ace0-0b4d8e45311d",
   "metadata": {},
   "outputs": [],
   "source": [
    "ds_track = ds.where(ds.snap_pathid==3,drop=True)\n",
    "df_track = df[df.track_id==3].reset_index(drop=True)"
   ]
  },
  {
   "cell_type": "code",
   "execution_count": 22,
   "id": "580c9ddc",
   "metadata": {},
   "outputs": [
    {
     "data": {
      "image/png": "[encoded data removed]",
      "text/plain": [
       "<Figure size 640x480 with 2 Axes>"
      ]
     },
     "metadata": {},
     "output_type": "display_data"
    }
   ],
   "source": [
    "fig = plot_node_tracks(df_track,'msl', 960_00, 1024_00, 90, 240, -60, 0, 'jet')"
   ]
  },
  {
   "cell_type": "markdown",
   "id": "bbfebe54",
   "metadata": {},
   "source": [
    "<span style=\"color: mediumblue;\">MSLP field</span>"
   ]
  },
  {
   "cell_type": "code",
   "execution_count": 23,
   "id": "eb3c51a0",
   "metadata": {},
   "outputs": [],
   "source": [
    "idx_minmsl = df_track['msl'].idxmin()"
   ]
  },
  {
   "cell_type": "code",
   "execution_count": 24,
   "id": "b5eaf7f0",
   "metadata": {},
   "outputs": [
    {
     "data": {
      "text/plain": [
       "<matplotlib.collections.QuadMesh at 0x1548b0ddfb90>"
      ]
     },
     "execution_count": 24,
     "metadata": {},
     "output_type": "execute_result"
    },
    {
     "data": {
      "image/png": "[encoded data removed]",
      "text/plain": [
       "<Figure size 640x480 with 2 Axes>"
      ]
     },
     "metadata": {},
     "output_type": "display_data"
    }
   ],
   "source": [
    "ds_track['snap_msl'].sel(snapshot=idx_minmsl).plot()"
   ]
  }
 ],
 "metadata": {
  "kernelspec": {
   "display_name": "Python [conda env:analysis3-25.04] *",
   "language": "python",
   "name": "conda-env-analysis3-25.04-py"
  },
  "language_info": {
   "codemirror_mode": {
    "name": "ipython",
    "version": 3
   },
   "file_extension": ".py",
   "mimetype": "text/x-python",
   "name": "python",
   "nbconvert_exporter": "python",
   "pygments_lexer": "ipython3",
   "version": "3.11.12"
  }
 },
 "nbformat": 4,
 "nbformat_minor": 5
}
